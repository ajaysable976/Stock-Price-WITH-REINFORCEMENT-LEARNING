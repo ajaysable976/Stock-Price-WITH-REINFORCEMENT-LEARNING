{
 "cells": [
  {
   "cell_type": "code",
   "execution_count": 1,
   "id": "ed4f8402",
   "metadata": {},
   "outputs": [],
   "source": [
    "import pandas as pd\n",
    "import numpy as np\n",
    "import seaborn as sns\n",
    "import matplotlib.pyplot as plt\n",
    "import pickle as pk"
   ]
  },
  {
   "cell_type": "code",
   "execution_count": 2,
   "id": "89cc987d",
   "metadata": {},
   "outputs": [
    {
     "data": {
      "text/html": [
       "<div>\n",
       "<style scoped>\n",
       "    .dataframe tbody tr th:only-of-type {\n",
       "        vertical-align: middle;\n",
       "    }\n",
       "\n",
       "    .dataframe tbody tr th {\n",
       "        vertical-align: top;\n",
       "    }\n",
       "\n",
       "    .dataframe thead th {\n",
       "        text-align: right;\n",
       "    }\n",
       "</style>\n",
       "<table border=\"1\" class=\"dataframe\">\n",
       "  <thead>\n",
       "    <tr style=\"text-align: right;\">\n",
       "      <th></th>\n",
       "      <th>date</th>\n",
       "      <th>open</th>\n",
       "      <th>high</th>\n",
       "      <th>low</th>\n",
       "      <th>close</th>\n",
       "      <th>volume</th>\n",
       "      <th>Name</th>\n",
       "    </tr>\n",
       "  </thead>\n",
       "  <tbody>\n",
       "    <tr>\n",
       "      <th>0</th>\n",
       "      <td>2013-02-08</td>\n",
       "      <td>15.07</td>\n",
       "      <td>15.12</td>\n",
       "      <td>14.63</td>\n",
       "      <td>14.75</td>\n",
       "      <td>8407500</td>\n",
       "      <td>AAL</td>\n",
       "    </tr>\n",
       "    <tr>\n",
       "      <th>1</th>\n",
       "      <td>2013-02-11</td>\n",
       "      <td>14.89</td>\n",
       "      <td>15.01</td>\n",
       "      <td>14.26</td>\n",
       "      <td>14.46</td>\n",
       "      <td>8882000</td>\n",
       "      <td>AAL</td>\n",
       "    </tr>\n",
       "    <tr>\n",
       "      <th>2</th>\n",
       "      <td>2013-02-12</td>\n",
       "      <td>14.45</td>\n",
       "      <td>14.51</td>\n",
       "      <td>14.10</td>\n",
       "      <td>14.27</td>\n",
       "      <td>8126000</td>\n",
       "      <td>AAL</td>\n",
       "    </tr>\n",
       "    <tr>\n",
       "      <th>3</th>\n",
       "      <td>2013-02-13</td>\n",
       "      <td>14.30</td>\n",
       "      <td>14.94</td>\n",
       "      <td>14.25</td>\n",
       "      <td>14.66</td>\n",
       "      <td>10259500</td>\n",
       "      <td>AAL</td>\n",
       "    </tr>\n",
       "    <tr>\n",
       "      <th>4</th>\n",
       "      <td>2013-02-14</td>\n",
       "      <td>14.94</td>\n",
       "      <td>14.96</td>\n",
       "      <td>13.16</td>\n",
       "      <td>13.99</td>\n",
       "      <td>31879900</td>\n",
       "      <td>AAL</td>\n",
       "    </tr>\n",
       "  </tbody>\n",
       "</table>\n",
       "</div>"
      ],
      "text/plain": [
       "         date   open   high    low  close    volume Name\n",
       "0  2013-02-08  15.07  15.12  14.63  14.75   8407500  AAL\n",
       "1  2013-02-11  14.89  15.01  14.26  14.46   8882000  AAL\n",
       "2  2013-02-12  14.45  14.51  14.10  14.27   8126000  AAL\n",
       "3  2013-02-13  14.30  14.94  14.25  14.66  10259500  AAL\n",
       "4  2013-02-14  14.94  14.96  13.16  13.99  31879900  AAL"
      ]
     },
     "execution_count": 2,
     "metadata": {},
     "output_type": "execute_result"
    }
   ],
   "source": [
    "df=pd.read_csv('all_stocks_5yr.csv')\n",
    "df.head()"
   ]
  },
  {
   "cell_type": "code",
   "execution_count": 3,
   "id": "24b7554a",
   "metadata": {},
   "outputs": [
    {
     "data": {
      "text/plain": [
       "(619040, 7)"
      ]
     },
     "execution_count": 3,
     "metadata": {},
     "output_type": "execute_result"
    }
   ],
   "source": [
    "df.shape"
   ]
  },
  {
   "cell_type": "code",
   "execution_count": 5,
   "id": "a8f09d48",
   "metadata": {},
   "outputs": [
    {
     "data": {
      "text/plain": [
       "date       0\n",
       "open      11\n",
       "high       8\n",
       "low        8\n",
       "close      0\n",
       "volume     0\n",
       "Name       0\n",
       "dtype: int64"
      ]
     },
     "execution_count": 5,
     "metadata": {},
     "output_type": "execute_result"
    }
   ],
   "source": [
    "df.isnull().sum()"
   ]
  },
  {
   "cell_type": "code",
   "execution_count": 6,
   "id": "ad5320d3",
   "metadata": {},
   "outputs": [],
   "source": [
    "df.dropna(inplace=True)"
   ]
  },
  {
   "cell_type": "code",
   "execution_count": 7,
   "id": "3899fa41",
   "metadata": {},
   "outputs": [
    {
     "data": {
      "text/plain": [
       "date      0\n",
       "open      0\n",
       "high      0\n",
       "low       0\n",
       "close     0\n",
       "volume    0\n",
       "Name      0\n",
       "dtype: int64"
      ]
     },
     "execution_count": 7,
     "metadata": {},
     "output_type": "execute_result"
    }
   ],
   "source": [
    "df.isnull().sum()"
   ]
  },
  {
   "cell_type": "code",
   "execution_count": 8,
   "id": "fc9728be",
   "metadata": {},
   "outputs": [
    {
     "name": "stdout",
     "output_type": "stream",
     "text": [
      "<class 'pandas.core.frame.DataFrame'>\n",
      "Int64Index: 619029 entries, 0 to 619039\n",
      "Data columns (total 7 columns):\n",
      " #   Column  Non-Null Count   Dtype  \n",
      "---  ------  --------------   -----  \n",
      " 0   date    619029 non-null  object \n",
      " 1   open    619029 non-null  float64\n",
      " 2   high    619029 non-null  float64\n",
      " 3   low     619029 non-null  float64\n",
      " 4   close   619029 non-null  float64\n",
      " 5   volume  619029 non-null  int64  \n",
      " 6   Name    619029 non-null  object \n",
      "dtypes: float64(4), int64(1), object(2)\n",
      "memory usage: 37.8+ MB\n"
     ]
    }
   ],
   "source": [
    "df.info()"
   ]
  },
  {
   "cell_type": "code",
   "execution_count": 9,
   "id": "d6ce8fd0",
   "metadata": {},
   "outputs": [],
   "source": [
    "#Creating Environment Matrix 2x2x3\n",
    "env_rows=2\n",
    "env_cols=2\n",
    "n_action=3\n",
    "\n",
    "q_table=np.zeros((env_rows,env_cols,n_action))\n",
    "np.random.seed()\n",
    "pk.dump(q_table,open(\"pickl.pkl\",'wb'))"
   ]
  },
  {
   "cell_type": "code",
   "execution_count": 11,
   "id": "2162acce",
   "metadata": {},
   "outputs": [
    {
     "data": {
      "text/plain": [
       "array([[[0., 0., 0.],\n",
       "        [0., 0., 0.]],\n",
       "\n",
       "       [[0., 0., 0.],\n",
       "        [0., 0., 0.]]])"
      ]
     },
     "execution_count": 11,
     "metadata": {},
     "output_type": "execute_result"
    }
   ],
   "source": [
    "pk.load(open(\"pickl.pkl\",'rb'))"
   ]
  },
  {
   "cell_type": "markdown",
   "id": "bac23554",
   "metadata": {},
   "source": [
    "### Feature Engineering"
   ]
  },
  {
   "cell_type": "code",
   "execution_count": 12,
   "id": "fe75a551",
   "metadata": {},
   "outputs": [],
   "source": [
    "#Defining Data Preprocessing Function\n",
    "\n",
    "def data_prep(data,name):\n",
    "    df=pd.DataFrame(data[data['Name']==name])\n",
    "    #df.dropna(inplace=True)\n",
    "    df.drop(['high','low','volume','Name'],axis=1,inplace=True)\n",
    "    df.reset_index(drop=True,inplace=True)\n",
    "    # Calculating 5 day and 1 day Moving Average for DF\n",
    "    df['5day_MA']=df['close'].rolling(5).mean()\n",
    "    df['1day_MA']=df['close'].rolling(1).mean()\n",
    "    df['5day_MA'][:4]=0\n",
    "    #Splitting into train and Test data\n",
    "    train_df=df[:int(len(df)*0.8)]\n",
    "    test_df=df[int(len(df)*0.8):].reset_index(drop=True)\n",
    "    return train_df,test_df"
   ]
  },
  {
   "cell_type": "code",
   "execution_count": 13,
   "id": "31be596f",
   "metadata": {},
   "outputs": [],
   "source": [
    "# Get the state for datapoint by Moving Average\n",
    "def get_state(long_ma,short_ma,t):\n",
    "    if short_ma<long_ma:\n",
    "        if t==1:\n",
    "            return (0,1) #Cash\n",
    "        else :\n",
    "            return (0,0) #Stock\n",
    "    \n",
    "    elif short_ma>long_ma:\n",
    "        if t==1:\n",
    "            return (1,1) #Cash\n",
    "        else :\n",
    "            return (1,0) #Stock|"
   ]
  },
  {
   "cell_type": "code",
   "execution_count": 14,
   "id": "4e466dc4",
   "metadata": {},
   "outputs": [],
   "source": [
    "#Checking if the user can trade or not\n",
    "def trade_t(num_of_stocks,port_value,current_price):\n",
    "    if num_of_stocks>=0:\n",
    "        if port_value>current_price:\n",
    "            return 1\n",
    "        else :return 0\n",
    "    else:\n",
    "        if port_value>current_price:\n",
    "            return 1\n",
    "        else :return 0"
   ]
  },
  {
   "cell_type": "code",
   "execution_count": 15,
   "id": "e0d75a75",
   "metadata": {},
   "outputs": [],
   "source": [
    "#Get next action by Epsilon greedy\n",
    "# Epsilon greedy = Epsilon-Greedy is a simple method to balance exploration and exploitation by choosing between exploration and exploitation randomly. \n",
    "def next_act(state,qtable,epsilon,action=3):\n",
    "    if np.random.rand() < epsilon:\n",
    "        action=np.random.randint(action)\n",
    "    else:\n",
    "        action=np.argmax(qtable[state])\n",
    "        \n",
    "        \n",
    "    return action"
   ]
  },
  {
   "cell_type": "code",
   "execution_count": 16,
   "id": "fbcde27c",
   "metadata": {},
   "outputs": [],
   "source": [
    "# Immidiate reward Generator based on cummulative wealth \n",
    "def get_reward(state,action,current_close,past_close,buy_history):\n",
    "    if state==(0,0) or state==(1,0): #Stock position\n",
    "        if action==0:\n",
    "            return -1000\n",
    "        elif action==1:\n",
    "            return (current_close-buy_history)\n",
    "        elif action==2:\n",
    "            return (current_close-past_close)\n",
    "    \n",
    "    elif state==(0,1) or state==(1,1): #Cash Position\n",
    "        if action==0:\n",
    "            return 0\n",
    "        elif action==1:\n",
    "            return -1000\n",
    "        elif action==2:\n",
    "            return (current_close-past_close)\n"
   ]
  },
  {
   "cell_type": "markdown",
   "id": "5f2d7553",
   "metadata": {},
   "source": [
    "### Reading and preprocessing the Dataset"
   ]
  },
  {
   "cell_type": "code",
   "execution_count": 17,
   "id": "808e39b6",
   "metadata": {},
   "outputs": [
    {
     "name": "stderr",
     "output_type": "stream",
     "text": [
      "C:\\Users\\vijay\\AppData\\Local\\Temp\\ipykernel_13812\\110402113.py:11: SettingWithCopyWarning: \n",
      "A value is trying to be set on a copy of a slice from a DataFrame\n",
      "\n",
      "See the caveats in the documentation: https://pandas.pydata.org/pandas-docs/stable/user_guide/indexing.html#returning-a-view-versus-a-copy\n",
      "  df['5day_MA'][:4]=0\n"
     ]
    }
   ],
   "source": [
    "stocks=pd.read_csv('all_stocks_5yr.csv')\n",
    "stocks_train,stocks_test=data_prep(stocks,'AAPL')"
   ]
  },
  {
   "cell_type": "code",
   "execution_count": 19,
   "id": "2b4f4fbc",
   "metadata": {},
   "outputs": [
    {
     "data": {
      "text/html": [
       "<div>\n",
       "<style scoped>\n",
       "    .dataframe tbody tr th:only-of-type {\n",
       "        vertical-align: middle;\n",
       "    }\n",
       "\n",
       "    .dataframe tbody tr th {\n",
       "        vertical-align: top;\n",
       "    }\n",
       "\n",
       "    .dataframe thead th {\n",
       "        text-align: right;\n",
       "    }\n",
       "</style>\n",
       "<table border=\"1\" class=\"dataframe\">\n",
       "  <thead>\n",
       "    <tr style=\"text-align: right;\">\n",
       "      <th></th>\n",
       "      <th>date</th>\n",
       "      <th>open</th>\n",
       "      <th>close</th>\n",
       "      <th>5day_MA</th>\n",
       "      <th>1day_MA</th>\n",
       "    </tr>\n",
       "  </thead>\n",
       "  <tbody>\n",
       "    <tr>\n",
       "      <th>0</th>\n",
       "      <td>2013-02-08</td>\n",
       "      <td>67.7142</td>\n",
       "      <td>67.8542</td>\n",
       "      <td>0.00000</td>\n",
       "      <td>67.8542</td>\n",
       "    </tr>\n",
       "    <tr>\n",
       "      <th>1</th>\n",
       "      <td>2013-02-11</td>\n",
       "      <td>68.0714</td>\n",
       "      <td>68.5614</td>\n",
       "      <td>0.00000</td>\n",
       "      <td>68.5614</td>\n",
       "    </tr>\n",
       "    <tr>\n",
       "      <th>2</th>\n",
       "      <td>2013-02-12</td>\n",
       "      <td>68.5014</td>\n",
       "      <td>66.8428</td>\n",
       "      <td>0.00000</td>\n",
       "      <td>66.8428</td>\n",
       "    </tr>\n",
       "    <tr>\n",
       "      <th>3</th>\n",
       "      <td>2013-02-13</td>\n",
       "      <td>66.7442</td>\n",
       "      <td>66.7156</td>\n",
       "      <td>0.00000</td>\n",
       "      <td>66.7156</td>\n",
       "    </tr>\n",
       "    <tr>\n",
       "      <th>4</th>\n",
       "      <td>2013-02-14</td>\n",
       "      <td>66.3599</td>\n",
       "      <td>66.6556</td>\n",
       "      <td>67.32592</td>\n",
       "      <td>66.6556</td>\n",
       "    </tr>\n",
       "  </tbody>\n",
       "</table>\n",
       "</div>"
      ],
      "text/plain": [
       "         date     open    close   5day_MA  1day_MA\n",
       "0  2013-02-08  67.7142  67.8542   0.00000  67.8542\n",
       "1  2013-02-11  68.0714  68.5614   0.00000  68.5614\n",
       "2  2013-02-12  68.5014  66.8428   0.00000  66.8428\n",
       "3  2013-02-13  66.7442  66.7156   0.00000  66.7156\n",
       "4  2013-02-14  66.3599  66.6556  67.32592  66.6556"
      ]
     },
     "execution_count": 19,
     "metadata": {},
     "output_type": "execute_result"
    }
   ],
   "source": [
    "stocks_train.head()"
   ]
  },
  {
   "cell_type": "code",
   "execution_count": 20,
   "id": "526d90cf",
   "metadata": {},
   "outputs": [
    {
     "data": {
      "text/html": [
       "<div>\n",
       "<style scoped>\n",
       "    .dataframe tbody tr th:only-of-type {\n",
       "        vertical-align: middle;\n",
       "    }\n",
       "\n",
       "    .dataframe tbody tr th {\n",
       "        vertical-align: top;\n",
       "    }\n",
       "\n",
       "    .dataframe thead th {\n",
       "        text-align: right;\n",
       "    }\n",
       "</style>\n",
       "<table border=\"1\" class=\"dataframe\">\n",
       "  <thead>\n",
       "    <tr style=\"text-align: right;\">\n",
       "      <th></th>\n",
       "      <th>date</th>\n",
       "      <th>open</th>\n",
       "      <th>close</th>\n",
       "      <th>5day_MA</th>\n",
       "      <th>1day_MA</th>\n",
       "    </tr>\n",
       "  </thead>\n",
       "  <tbody>\n",
       "    <tr>\n",
       "      <th>0</th>\n",
       "      <td>2017-02-08</td>\n",
       "      <td>131.35</td>\n",
       "      <td>132.04</td>\n",
       "      <td>130.294</td>\n",
       "      <td>132.04</td>\n",
       "    </tr>\n",
       "    <tr>\n",
       "      <th>1</th>\n",
       "      <td>2017-02-09</td>\n",
       "      <td>131.65</td>\n",
       "      <td>132.42</td>\n",
       "      <td>131.072</td>\n",
       "      <td>132.42</td>\n",
       "    </tr>\n",
       "    <tr>\n",
       "      <th>2</th>\n",
       "      <td>2017-02-10</td>\n",
       "      <td>132.46</td>\n",
       "      <td>132.12</td>\n",
       "      <td>131.680</td>\n",
       "      <td>132.12</td>\n",
       "    </tr>\n",
       "    <tr>\n",
       "      <th>3</th>\n",
       "      <td>2017-02-13</td>\n",
       "      <td>133.08</td>\n",
       "      <td>133.29</td>\n",
       "      <td>132.280</td>\n",
       "      <td>133.29</td>\n",
       "    </tr>\n",
       "    <tr>\n",
       "      <th>4</th>\n",
       "      <td>2017-02-14</td>\n",
       "      <td>133.47</td>\n",
       "      <td>135.02</td>\n",
       "      <td>132.978</td>\n",
       "      <td>135.02</td>\n",
       "    </tr>\n",
       "  </tbody>\n",
       "</table>\n",
       "</div>"
      ],
      "text/plain": [
       "         date    open   close  5day_MA  1day_MA\n",
       "0  2017-02-08  131.35  132.04  130.294   132.04\n",
       "1  2017-02-09  131.65  132.42  131.072   132.42\n",
       "2  2017-02-10  132.46  132.12  131.680   132.12\n",
       "3  2017-02-13  133.08  133.29  132.280   133.29\n",
       "4  2017-02-14  133.47  135.02  132.978   135.02"
      ]
     },
     "execution_count": 20,
     "metadata": {},
     "output_type": "execute_result"
    }
   ],
   "source": [
    "stocks_test.head()"
   ]
  },
  {
   "cell_type": "markdown",
   "id": "66cd5699",
   "metadata": {},
   "source": [
    "### Training the Dataset\n"
   ]
  },
  {
   "cell_type": "code",
   "execution_count": 21,
   "id": "668b4cc4",
   "metadata": {},
   "outputs": [],
   "source": [
    "episodes=100\n",
    "port_value=1000\n",
    "num_stocks=0\n",
    "epsilon=1 #Epsilon Greedy\n",
    "alpha=0.05 #Learning Rate\n",
    "gamma=0.15 #Discount Factor\n",
    "buy_history=0\n",
    "net_worth=[1000] #Portfolio Value\n",
    "np.random.seed()"
   ]
  },
  {
   "cell_type": "code",
   "execution_count": 22,
   "id": "63e9612e",
   "metadata": {},
   "outputs": [
    {
     "name": "stdout",
     "output_type": "stream",
     "text": [
      "Training Complete\n"
     ]
    }
   ],
   "source": [
    "episodes=100\n",
    "port_value=1000\n",
    "num_stocks=0\n",
    "epsilon=1 #Epsilon Greedy\n",
    "alpha=0.05 #Learning Rate\n",
    "gamma=0.15 #Discount Factor\n",
    "buy_history=0\n",
    "net_worth=[1000] #Portfolio Value\n",
    "np.random.seed()\n",
    "for i in range(episodes): #Iteration for each episode\n",
    "    port_value=1000\n",
    "    num_stocks=0\n",
    "    buy_history=0\n",
    "    net_worth=[1000]\n",
    "    \n",
    "\n",
    "    for dt in range(len(stocks_train)): #Iteration through each dataset\n",
    "        long_ma=stocks_train.iloc[dt]['5day_MA']\n",
    "        short_ma=stocks_train.iloc[dt]['1day_MA']\n",
    "        close_price=stocks_train.iloc[dt]['close']\n",
    "        next_close=0\n",
    "        \n",
    "        if dt>0:\n",
    "            past_close=stocks_train.iloc[dt-1]['close']\n",
    "        else:\n",
    "            past_close=close_price\n",
    "        t=trade_t(num_stocks,net_worth[-1],close_price)\n",
    "        state=get_state(long_ma,short_ma,t)\n",
    "        action=next_act(state,q_table,epsilon)\n",
    "\n",
    "        if action==0:#Buy\n",
    "            \n",
    "             num_stocks+=1\n",
    "             buy_history=close_price\n",
    "             to_append=net_worth[-1]-close_price\n",
    "             net_worth.append(np.round(to_append,1))\n",
    "             r=0\n",
    "            \n",
    "            \n",
    "        \n",
    "        elif action==1:#Sell\n",
    "            # if num_stocks>0:\n",
    "                num_stocks-=1               \n",
    "                to_append=net_worth[-1]+close_price\n",
    "                net_worth.append(np.round(to_append,1))\n",
    "                # buy_history.pop(0)\n",
    "        \n",
    "        elif action==2:#hold\n",
    "            to_append=net_worth[-1]+close_price\n",
    "            net_worth.append(np.round(to_append,1))\n",
    "            \n",
    "        \n",
    "                \n",
    "         \n",
    "\n",
    "        r=get_reward(state,action,close_price,past_close,buy_history) #Getting Reward\n",
    "        \n",
    "        try:\n",
    "            next_state=get_state(stocks_train.iloc[dt+1]['5day_MA'],stocks_train.iloc[dt+1]['1day_MA'],t)\n",
    "            \n",
    "        except:\n",
    "            break\n",
    "        #Updating Q_table by Bellmen's Equation\n",
    "        q_table[state][action]=(1.-alpha)*q_table[state][action]+alpha*(r+gamma*np.max(q_table[next_state]))\n",
    "    \n",
    "    if (epsilon-0.01)>0.15:\n",
    "        epsilon-=0.01\n",
    "\n",
    "print(\"Training Complete\")"
   ]
  },
  {
   "cell_type": "code",
   "execution_count": 23,
   "id": "769983cf",
   "metadata": {},
   "outputs": [],
   "source": [
    "pk.dump(q_table,open('pickl.pkl1','wb'))"
   ]
  },
  {
   "cell_type": "code",
   "execution_count": 24,
   "id": "6f873195",
   "metadata": {},
   "outputs": [
    {
     "data": {
      "text/plain": [
       "390"
      ]
     },
     "execution_count": 24,
     "metadata": {},
     "output_type": "execute_result"
    }
   ],
   "source": [
    "num_stocks"
   ]
  },
  {
   "cell_type": "code",
   "execution_count": null,
   "id": "dd6a6842",
   "metadata": {},
   "outputs": [],
   "source": []
  }
 ],
 "metadata": {
  "kernelspec": {
   "display_name": "Python 3 (ipykernel)",
   "language": "python",
   "name": "python3"
  },
  "language_info": {
   "codemirror_mode": {
    "name": "ipython",
    "version": 3
   },
   "file_extension": ".py",
   "mimetype": "text/x-python",
   "name": "python",
   "nbconvert_exporter": "python",
   "pygments_lexer": "ipython3",
   "version": "3.9.0"
  }
 },
 "nbformat": 4,
 "nbformat_minor": 5
}
